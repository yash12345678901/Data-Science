{
 "cells": [
  {
   "cell_type": "code",
   "execution_count": 1,
   "metadata": {},
   "outputs": [],
   "source": [
    "import tensorflow as tf\n",
    "from tensorflow.keras import datasets, layers, models\n",
    "import matplotlib.pyplot as plt\n",
    "import numpy as np"
   ]
  },
  {
   "cell_type": "code",
   "execution_count": 3,
   "metadata": {},
   "outputs": [
    {
     "data": {
      "text/plain": [
       "(50000, 32, 32, 3)"
      ]
     },
     "execution_count": 3,
     "metadata": {},
     "output_type": "execute_result"
    }
   ],
   "source": [
    "(x_train, y_train),(x_test, y_test) = datasets.cifar10.load_data()\n",
    "x_train.shape"
   ]
  },
  {
   "cell_type": "code",
   "execution_count": 4,
   "metadata": {},
   "outputs": [
    {
     "data": {
      "text/plain": [
       "(10000, 32, 32, 3)"
      ]
     },
     "execution_count": 4,
     "metadata": {},
     "output_type": "execute_result"
    }
   ],
   "source": [
    "x_test.shape"
   ]
  },
  {
   "cell_type": "markdown",
   "metadata": {},
   "source": [
    "#### In this dataset there are 50000 training set image"
   ]
  },
  {
   "cell_type": "code",
   "execution_count": 5,
   "metadata": {},
   "outputs": [
    {
     "data": {
      "text/plain": [
       "(50000, 1)"
      ]
     },
     "execution_count": 5,
     "metadata": {},
     "output_type": "execute_result"
    }
   ],
   "source": [
    "y_train.shape"
   ]
  },
  {
   "cell_type": "code",
   "execution_count": 6,
   "metadata": {},
   "outputs": [
    {
     "data": {
      "text/plain": [
       "array([[6],\n",
       "       [9],\n",
       "       [9],\n",
       "       [4],\n",
       "       [1]], dtype=uint8)"
      ]
     },
     "execution_count": 6,
     "metadata": {},
     "output_type": "execute_result"
    }
   ],
   "source": [
    "y_train[:5]"
   ]
  },
  {
   "cell_type": "code",
   "execution_count": 8,
   "metadata": {},
   "outputs": [
    {
     "data": {
      "text/plain": [
       "array([6, 9, 9, 4, 1], dtype=uint8)"
      ]
     },
     "execution_count": 8,
     "metadata": {},
     "output_type": "execute_result"
    }
   ],
   "source": [
    "### y_train is a 2D array, for our classification having 1D array is good enough. so we will convert this to now 1D array\n",
    "y_train = y_train.reshape(-1)\n",
    "y_train[:5]"
   ]
  },
  {
   "cell_type": "code",
   "execution_count": 9,
   "metadata": {},
   "outputs": [],
   "source": [
    "y_test = y_test.reshape(-1)"
   ]
  },
  {
   "cell_type": "code",
   "execution_count": 10,
   "metadata": {},
   "outputs": [],
   "source": [
    "classes = ['airplane','automobile','bird','cat','deer','dog','frog','horse','ship','truck']"
   ]
  },
  {
   "cell_type": "markdown",
   "metadata": {},
   "source": [
    "### See the image now"
   ]
  },
  {
   "cell_type": "code",
   "execution_count": 11,
   "metadata": {},
   "outputs": [],
   "source": [
    "def plot_sample(x, y, index):\n",
    "    plt.figure(figsize = (15,2))\n",
    "    plt.imshow(x[index])\n",
    "    plt.xlabel(classes[y[index]])"
   ]
  },
  {
   "cell_type": "code",
   "execution_count": 13,
   "metadata": {},
   "outputs": [
    {
     "data": {
      "image/png": "[encoded data removed]",
      "text/plain": [
       "<Figure size 1080x144 with 1 Axes>"
      ]
     },
     "metadata": {
      "needs_background": "light"
     },
     "output_type": "display_data"
    }
   ],
   "source": [
    "plot_sample(x_train, y_train, 1)"
   ]
  },
  {
   "cell_type": "code",
   "execution_count": 15,
   "metadata": {},
   "outputs": [
    {
     "data": {
      "image/png": "[encoded data removed]",
      "text/plain": [
       "<Figure size 1080x144 with 1 Axes>"
      ]
     },
     "metadata": {
      "needs_background": "light"
     },
     "output_type": "display_data"
    }
   ],
   "source": [
    "plot_sample(x_train, y_train, 3)"
   ]
  },
  {
   "cell_type": "code",
   "execution_count": 16,
   "metadata": {},
   "outputs": [],
   "source": [
    "x_train = x_train/255\n",
    "x_test = x_test/255"
   ]
  },
  {
   "cell_type": "code",
   "execution_count": 18,
   "metadata": {},
   "outputs": [
    {
     "name": "stdout",
     "output_type": "stream",
     "text": [
      "Epoch 1/20\n",
      "1563/1563 [==============================] - 127s 76ms/step - loss: 1.9305 - accuracy: 0.3052\n",
      "Epoch 2/20\n",
      "1563/1563 [==============================] - 98s 62ms/step - loss: 1.6312 - accuracy: 0.4270\n",
      "Epoch 3/20\n",
      "1563/1563 [==============================] - 99s 63ms/step - loss: 1.5542 - accuracy: 0.4566\n",
      "Epoch 4/20\n",
      "1563/1563 [==============================] - 99s 63ms/step - loss: 1.4804 - accuracy: 0.4764\n",
      "Epoch 5/20\n",
      "1563/1563 [==============================] - 98s 63ms/step - loss: 1.4296 - accuracy: 0.4934\n",
      "Epoch 6/20\n",
      "1563/1563 [==============================] - 100s 64ms/step - loss: 1.3969 - accuracy: 0.5098\n",
      "Epoch 7/20\n",
      "1563/1563 [==============================] - 102s 65ms/step - loss: 1.3538 - accuracy: 0.5245\n",
      "Epoch 8/20\n",
      "1563/1563 [==============================] - 108s 69ms/step - loss: 1.3212 - accuracy: 0.5335\n",
      "Epoch 9/20\n",
      "1563/1563 [==============================] - 107s 69ms/step - loss: 1.2808 - accuracy: 0.5527\n",
      "Epoch 10/20\n",
      "1563/1563 [==============================] - 100s 64ms/step - loss: 1.2501 - accuracy: 0.5608\n",
      "Epoch 11/20\n",
      "1563/1563 [==============================] - 104s 67ms/step - loss: 1.2176 - accuracy: 0.5761\n",
      "Epoch 12/20\n",
      "1563/1563 [==============================] - 103s 66ms/step - loss: 1.1891 - accuracy: 0.5864\n",
      "Epoch 13/20\n",
      "1563/1563 [==============================] - 114s 73ms/step - loss: 1.1640 - accuracy: 0.5907\n",
      "Epoch 14/20\n",
      "1563/1563 [==============================] - 101s 64ms/step - loss: 1.1313 - accuracy: 0.6062\n",
      "Epoch 15/20\n",
      "1563/1563 [==============================] - 107s 68ms/step - loss: 1.1125 - accuracy: 0.6138\n",
      "Epoch 16/20\n",
      "1563/1563 [==============================] - 113s 72ms/step - loss: 1.0826 - accuracy: 0.6202\n",
      "Epoch 17/20\n",
      "1563/1563 [==============================] - 110s 71ms/step - loss: 1.0511 - accuracy: 0.6352\n",
      "Epoch 18/20\n",
      "1563/1563 [==============================] - 105s 67ms/step - loss: 1.0219 - accuracy: 0.6445\n",
      "Epoch 19/20\n",
      "1563/1563 [==============================] - 100s 64ms/step - loss: 1.0132 - accuracy: 0.6502\n",
      "Epoch 20/20\n",
      "1563/1563 [==============================] - 107s 69ms/step - loss: 0.9788 - accuracy: 0.6625\n"
     ]
    },
    {
     "data": {
      "text/plain": [
       "<tensorflow.python.keras.callbacks.History at 0x20cb048f648>"
      ]
     },
     "execution_count": 18,
     "metadata": {},
     "output_type": "execute_result"
    }
   ],
   "source": [
    "### Model ANN(Artificial Neural Network)\n",
    "\n",
    "ann = models.Sequential([\n",
    "    layers.Flatten(input_shape = (32, 32, 3)),\n",
    "    layers.Dense(3000, activation = 'relu'),\n",
    "    layers.Dense(1000, activation = 'relu'),\n",
    "    layers.Dense(10, activation = 'sigmoid')\n",
    "    \n",
    "])\n",
    "ann.compile(optimizer = 'SGD', loss = 'sparse_categorical_crossentropy', metrics = ['accuracy'])\n",
    "ann.fit(x_train, y_train, epochs = 20)"
   ]
  },
  {
   "cell_type": "code",
   "execution_count": 19,
   "metadata": {},
   "outputs": [
    {
     "name": "stdout",
     "output_type": "stream",
     "text": [
      "Classification Report:               precision    recall  f1-score   support\n",
      "\n",
      "           0       0.58      0.69      0.63      1000\n",
      "           1       0.54      0.81      0.65      1000\n",
      "           2       0.51      0.34      0.41      1000\n",
      "           3       0.43      0.30      0.36      1000\n",
      "           4       0.45      0.51      0.48      1000\n",
      "           5       0.51      0.38      0.44      1000\n",
      "           6       0.65      0.56      0.60      1000\n",
      "           7       0.45      0.76      0.57      1000\n",
      "           8       0.71      0.63      0.67      1000\n",
      "           9       0.69      0.43      0.53      1000\n",
      "\n",
      "    accuracy                           0.54     10000\n",
      "   macro avg       0.55      0.54      0.53     10000\n",
      "weighted avg       0.55      0.54      0.53     10000\n",
      "\n"
     ]
    }
   ],
   "source": [
    "from sklearn.metrics import confusion_matrix, classification_report\n",
    "import numpy as np\n",
    "y_predict = ann.predict(x_test)\n",
    "y_predict_class = [np.argmax(element) for element in y_predict]\n",
    "print('Classification Report:', classification_report(y_test, y_predict_class))"
   ]
  },
  {
   "cell_type": "code",
   "execution_count": 21,
   "metadata": {},
   "outputs": [],
   "source": [
    "### Now apply CNN(Convolution Neural Network)\n",
    "cnn = models.Sequential([\n",
    "    layers.Conv2D(filters = 32, kernel_size = (3,3), activation = 'relu', input_shape = (32, 32, 3)),\n",
    "    layers.MaxPooling2D((2,2)),\n",
    "    layers.Conv2D(filters = 64, kernel_size = (3,3), activation = 'relu'),\n",
    "    layers.MaxPooling2D(2, 2),\n",
    "    layers.Flatten(),\n",
    "    layers.Dense(10, activation = 'softmax')\n",
    "])\n",
    "cnn.compile(optimizer = 'adam', loss = 'sparse_categorical_crossentropy', metrics = ['accuracy'])\n"
   ]
  },
  {
   "cell_type": "code",
   "execution_count": 22,
   "metadata": {},
   "outputs": [
    {
     "name": "stdout",
     "output_type": "stream",
     "text": [
      "Epoch 1/20\n",
      "1563/1563 [==============================] - 35s 19ms/step - loss: 1.7324 - accuracy: 0.3730\n",
      "Epoch 2/20\n",
      "1563/1563 [==============================] - 37s 23ms/step - loss: 1.2110 - accuracy: 0.5745\n",
      "Epoch 3/20\n",
      "1563/1563 [==============================] - 35s 23ms/step - loss: 1.0571 - accuracy: 0.6330\n",
      "Epoch 4/20\n",
      "1563/1563 [==============================] - 34s 22ms/step - loss: 0.9736 - accuracy: 0.6652\n",
      "Epoch 5/20\n",
      "1563/1563 [==============================] - 34s 21ms/step - loss: 0.8965 - accuracy: 0.6914\n",
      "Epoch 6/20\n",
      "1563/1563 [==============================] - 33s 21ms/step - loss: 0.8537 - accuracy: 0.7054\n",
      "Epoch 7/20\n",
      "1563/1563 [==============================] - 35s 22ms/step - loss: 0.8009 - accuracy: 0.7237\n",
      "Epoch 8/20\n",
      "1563/1563 [==============================] - 33s 21ms/step - loss: 0.7757 - accuracy: 0.7332\n",
      "Epoch 9/20\n",
      "1563/1563 [==============================] - 39s 25ms/step - loss: 0.7490 - accuracy: 0.7428\n",
      "Epoch 10/20\n",
      "1563/1563 [==============================] - 41s 26ms/step - loss: 0.7203 - accuracy: 0.7519\n",
      "Epoch 11/20\n",
      "1563/1563 [==============================] - 35s 22ms/step - loss: 0.7090 - accuracy: 0.7552\n",
      "Epoch 12/20\n",
      "1563/1563 [==============================] - 38s 24ms/step - loss: 0.6854 - accuracy: 0.7634\n",
      "Epoch 13/20\n",
      "1563/1563 [==============================] - 39s 25ms/step - loss: 0.6672 - accuracy: 0.7689\n",
      "Epoch 14/20\n",
      "1563/1563 [==============================] - 35s 22ms/step - loss: 0.6500 - accuracy: 0.7746\n",
      "Epoch 15/20\n",
      "1563/1563 [==============================] - 36s 23ms/step - loss: 0.6223 - accuracy: 0.7855\n",
      "Epoch 16/20\n",
      "1563/1563 [==============================] - 36s 23ms/step - loss: 0.6140 - accuracy: 0.7852\n",
      "Epoch 17/20\n",
      "1563/1563 [==============================] - 36s 23ms/step - loss: 0.5949 - accuracy: 0.7957\n",
      "Epoch 18/20\n",
      "1563/1563 [==============================] - 35s 23ms/step - loss: 0.5852 - accuracy: 0.7979\n",
      "Epoch 19/20\n",
      "1563/1563 [==============================] - 36s 23ms/step - loss: 0.5737 - accuracy: 0.8006\n",
      "Epoch 20/20\n",
      "1563/1563 [==============================] - 35s 23ms/step - loss: 0.5616 - accuracy: 0.8052\n"
     ]
    },
    {
     "data": {
      "text/plain": [
       "<tensorflow.python.keras.callbacks.History at 0x20cb1331fc8>"
      ]
     },
     "execution_count": 22,
     "metadata": {},
     "output_type": "execute_result"
    }
   ],
   "source": [
    "cnn.fit(x_train, y_train, epochs = 20)"
   ]
  },
  {
   "cell_type": "markdown",
   "metadata": {},
   "source": [
    "#### With CNN, at the end 5 epochs, accuracy was at around 80.52% which is a significant improvement over ANN. "
   ]
  },
  {
   "cell_type": "code",
   "execution_count": 23,
   "metadata": {},
   "outputs": [
    {
     "name": "stdout",
     "output_type": "stream",
     "text": [
      "313/313 [==============================] - 4s 8ms/step - loss: 0.9312 - accuracy: 0.6994\n"
     ]
    },
    {
     "data": {
      "text/plain": [
       "[0.9311569333076477, 0.699400007724762]"
      ]
     },
     "execution_count": 23,
     "metadata": {},
     "output_type": "execute_result"
    }
   ],
   "source": [
    "cnn.evaluate(x_test, y_test)"
   ]
  },
  {
   "cell_type": "code",
   "execution_count": 24,
   "metadata": {},
   "outputs": [],
   "source": [
    "y_pred = cnn.predict(x_test)"
   ]
  },
  {
   "cell_type": "code",
   "execution_count": 25,
   "metadata": {},
   "outputs": [
    {
     "data": {
      "text/plain": [
       "array([[2.01565796e-03, 4.64192308e-05, 1.05909444e-03, 5.11736751e-01,\n",
       "        1.61564094e-05, 1.40639460e-02, 2.17016172e-02, 5.38870117e-05,\n",
       "        4.49139744e-01, 1.66701982e-04],\n",
       "       [3.00113042e-03, 2.19201267e-01, 5.26525628e-06, 1.18889645e-07,\n",
       "        1.09794360e-08, 1.07595144e-09, 1.04936095e-08, 1.17108003e-08,\n",
       "        7.77227879e-01, 5.64336544e-04],\n",
       "       [6.41692802e-02, 2.16967553e-01, 1.36505079e-03, 3.13313236e-03,\n",
       "        3.67603119e-04, 2.13589941e-04, 1.87691170e-04, 2.22413591e-03,\n",
       "        5.15924692e-01, 1.95447296e-01],\n",
       "       [9.59971666e-01, 5.94089506e-03, 2.02180748e-03, 1.58499271e-04,\n",
       "        2.39581964e-03, 3.81736669e-07, 2.53213366e-05, 1.66619476e-03,\n",
       "        2.75906716e-02, 2.28737961e-04],\n",
       "       [3.89622937e-06, 9.54118968e-06, 1.20929815e-01, 1.01750173e-01,\n",
       "        2.86928624e-01, 7.93044269e-03, 4.82295066e-01, 7.47099557e-06,\n",
       "        1.44717269e-04, 2.56179135e-07]], dtype=float32)"
      ]
     },
     "execution_count": 25,
     "metadata": {},
     "output_type": "execute_result"
    }
   ],
   "source": [
    "y_pred[:5]"
   ]
  },
  {
   "cell_type": "code",
   "execution_count": 27,
   "metadata": {},
   "outputs": [
    {
     "data": {
      "text/plain": [
       "[3, 8, 8, 0, 6]"
      ]
     },
     "execution_count": 27,
     "metadata": {},
     "output_type": "execute_result"
    }
   ],
   "source": [
    "y_classes = [np.argmax(element) for element in y_pred]\n",
    "y_classes[:5]"
   ]
  },
  {
   "cell_type": "code",
   "execution_count": 28,
   "metadata": {},
   "outputs": [
    {
     "data": {
      "text/plain": [
       "array([3, 8, 8, 0, 6], dtype=uint8)"
      ]
     },
     "execution_count": 28,
     "metadata": {},
     "output_type": "execute_result"
    }
   ],
   "source": [
    "y_test[:5]"
   ]
  },
  {
   "cell_type": "code",
   "execution_count": 29,
   "metadata": {},
   "outputs": [
    {
     "data": {
      "image/png": "[encoded data removed]",
      "text/plain": [
       "<Figure size 1080x144 with 1 Axes>"
      ]
     },
     "metadata": {
      "needs_background": "light"
     },
     "output_type": "display_data"
    }
   ],
   "source": [
    "plot_sample(x_test, y_test, 3)"
   ]
  },
  {
   "cell_type": "code",
   "execution_count": 30,
   "metadata": {},
   "outputs": [
    {
     "data": {
      "text/plain": [
       "'airplane'"
      ]
     },
     "execution_count": 30,
     "metadata": {},
     "output_type": "execute_result"
    }
   ],
   "source": [
    "classes[y_classes[3]]"
   ]
  },
  {
   "cell_type": "code",
   "execution_count": null,
   "metadata": {},
   "outputs": [],
   "source": []
  }
 ],
 "metadata": {
  "kernelspec": {
   "display_name": "Python 3",
   "language": "python",
   "name": "python3"
  },
  "language_info": {
   "codemirror_mode": {
    "name": "ipython",
    "version": 3
   },
   "file_extension": ".py",
   "mimetype": "text/x-python",
   "name": "python",
   "nbconvert_exporter": "python",
   "pygments_lexer": "ipython3",
   "version": "3.7.9"
  }
 },
 "nbformat": 4,
 "nbformat_minor": 4
}
